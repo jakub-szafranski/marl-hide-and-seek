{
 "cells": [
  {
   "cell_type": "code",
   "execution_count": null,
   "metadata": {},
   "outputs": [],
   "source": []
  },
  {
   "cell_type": "code",
   "execution_count": 1,
   "metadata": {},
   "outputs": [
    {
     "name": "stdout",
     "output_type": "stream",
     "text": [
      "1\n"
     ]
    }
   ],
   "source": [
    "class Agent:\n",
    "    def __init__(self, x):\n",
    "        self.x = x\n",
    "\n",
    "def change_agent(agent):\n",
    "    agent.x = 1\n",
    "\n",
    "\n",
    "class Board:\n",
    "    def __init__(self, agent):\n",
    "        self.agent = agent\n",
    "\n",
    "    def do_sth(self):\n",
    "        change_agent(self.agent)\n",
    "        \n",
    "\n",
    "\n",
    "agent = Agent(None)\n",
    "board = Board(agent)\n",
    "board.do_sth()\n",
    "print(agent.x)\n"
   ]
  },
  {
   "cell_type": "code",
   "execution_count": 3,
   "metadata": {},
   "outputs": [
    {
     "name": "stdout",
     "output_type": "stream",
     "text": [
      "0\n",
      "0\n",
      "0\n",
      "0\n",
      "0\n",
      "0\n",
      "0\n",
      "0\n"
     ]
    }
   ],
   "source": [
    "# q_value that look like q_value[state][action] = value\n",
    "q_value = {\n",
    "    (1, 3, 1): {\n",
    "        Action.UP: 0,\n",
    "        Action.DOWN: 0,\n",
    "    },\n",
    "    (2, 3, 4): {\n",
    "        Action.UP: 0,\n",
    "        Action.DOWN: 0,\n",
    "    }\n",
    "}\n",
    "\n",
    "for state in q_value:\n",
    "    for action in q_value[state]:\n",
    "        print(q_value[state][action])"
   ]
  },
  {
   "cell_type": "code",
   "execution_count": null,
   "metadata": {},
   "outputs": [],
   "source": []
  }
 ],
 "metadata": {
  "kernelspec": {
   "display_name": "venv",
   "language": "python",
   "name": "python3"
  },
  "language_info": {
   "codemirror_mode": {
    "name": "ipython",
    "version": 3
   },
   "file_extension": ".py",
   "mimetype": "text/x-python",
   "name": "python",
   "nbconvert_exporter": "python",
   "pygments_lexer": "ipython3",
   "version": "3.11.6"
  }
 },
 "nbformat": 4,
 "nbformat_minor": 2
}
